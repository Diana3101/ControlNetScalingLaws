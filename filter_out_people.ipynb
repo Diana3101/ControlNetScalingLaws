{
 "cells": [
  {
   "cell_type": "code",
   "execution_count": null,
   "id": "6f108f77-a82b-4de9-818b-836f6ce8b47d",
   "metadata": {},
   "outputs": [],
   "source": []
  },
  {
   "cell_type": "markdown",
   "id": "5339f64a",
   "metadata": {},
   "source": [
    "0. Upload .parquet files with labels\\\n",
    "    0.1 Do EDA\n",
    "1. Filter .parquet files used BEFORE downloading\n",
    "2. Filter already downloaded images (MAYBE NO)"
   ]
  },
  {
   "cell_type": "code",
   "execution_count": 160,
   "id": "e4ab133c",
   "metadata": {},
   "outputs": [],
   "source": [
    "import os\n",
    "import pandas as pd\n",
    "from datasets import load_dataset\n",
    "import numpy as np\n",
    "\n",
    "from tqdm import tqdm\n",
    "tqdm.pandas()\n",
    "\n",
    "from time import time"
   ]
  },
  {
   "cell_type": "code",
   "execution_count": 3,
   "id": "8ecdeca2",
   "metadata": {},
   "outputs": [],
   "source": [
    "IMAGE_RESOLUTION = 256"
   ]
  },
  {
   "cell_type": "markdown",
   "id": "6aad4672",
   "metadata": {},
   "source": [
    "# Upload .parquet files with labels"
   ]
  },
  {
   "cell_type": "code",
   "execution_count": 196,
   "id": "96a86216-2267-4867-9109-1965a3bc23c7",
   "metadata": {},
   "outputs": [
    {
     "data": {
      "application/vnd.jupyter.widget-view+json": {
       "model_id": "4d58f52bfef04cf6a48c5002ce6bcead",
       "version_major": 2,
       "version_minor": 0
      },
      "text/plain": [
       "Resolving data files:   0%|          | 0/61 [00:00<?, ?it/s]"
      ]
     },
     "metadata": {},
     "output_type": "display_data"
    }
   ],
   "source": [
    "# temporary\n",
    "folder = f'/mnt/disks/disk-big2/laion200m-od-labels-1shard'\n",
    "\n",
    "od_labels_files = os.listdir(folder)\n",
    "od_labels_files = [os.path.join(folder, file) for file in od_labels_files]\n",
    "processed_urls = load_dataset(\"parquet\", data_files={\"train\": od_labels_files}, split=\"train\")"
   ]
  },
  {
   "cell_type": "code",
   "execution_count": 197,
   "id": "c9950ff8-0e60-47c9-960d-fadaa251ff9b",
   "metadata": {},
   "outputs": [
    {
     "data": {
      "text/plain": [
       "Dataset({\n",
       "    features: ['url', 'label', 'score', 'top_left_x', 'top_left_y', 'bottom_right_x', 'bottom_right_y'],\n",
       "    num_rows: 8624\n",
       "})"
      ]
     },
     "execution_count": 197,
     "metadata": {},
     "output_type": "execute_result"
    }
   ],
   "source": [
    "processed_urls"
   ]
  },
  {
   "cell_type": "markdown",
   "id": "f67950ef",
   "metadata": {},
   "source": [
    "# EDA"
   ]
  },
  {
   "cell_type": "markdown",
   "id": "833e88ef",
   "metadata": {},
   "source": [
    "## test HF vs pandas speed"
   ]
  },
  {
   "cell_type": "code",
   "execution_count": 198,
   "id": "8617df3a",
   "metadata": {},
   "outputs": [],
   "source": [
    "IMAGE_RESOLUTION = 256\n",
    "BOX_SIZE_THRESHOLD = 100"
   ]
  },
  {
   "cell_type": "code",
   "execution_count": 200,
   "id": "0bc659fc",
   "metadata": {},
   "outputs": [
    {
     "name": "stderr",
     "output_type": "stream",
     "text": [
      "100%|██████████| 8624/8624 [00:00<00:00, 25530.71it/s]\n",
      "100%|██████████| 8624/8624 [00:00<00:00, 59805.89it/s]\n"
     ]
    },
    {
     "data": {
      "text/plain": [
       "0.5082385540008545"
      ]
     },
     "execution_count": 200,
     "metadata": {},
     "output_type": "execute_result"
    }
   ],
   "source": [
    "t = time()\n",
    "df = processed_urls.to_pandas()\n",
    "df['box_size'] = df.progress_apply(lambda x: (x.bottom_right_y - x.top_left_y)*(x.bottom_right_x - x.top_left_x),\n",
    "                                   axis=1)\n",
    "df['box_perc'] = df.progress_apply(lambda x: int(100 * x.box_size / (IMAGE_RESOLUTION*IMAGE_RESOLUTION)),\n",
    "                                   axis=1)\n",
    "df_invalid = df[(df['label']=='person') & (df['box_size'] > BOX_SIZE_THRESHOLD)]\n",
    "list_invalid_urls = list(df_invalid['url'].unique())\n",
    "\n",
    "time() - t"
   ]
  },
  {
   "cell_type": "code",
   "execution_count": 199,
   "id": "14ab73f9",
   "metadata": {},
   "outputs": [
    {
     "data": {
      "text/plain": [
       "0.07403826713562012"
      ]
     },
     "execution_count": 199,
     "metadata": {},
     "output_type": "execute_result"
    }
   ],
   "source": [
    "t = time()\n",
    "def get_box_size(example):\n",
    "        example['box_size'] = (example['bottom_right_y'] - example['top_left_y']) * \\\n",
    "            (example['bottom_right_x'] - example['top_left_x'])\n",
    "        example['box_perc'] = int(100 * example['box_size'] / (IMAGE_RESOLUTION*IMAGE_RESOLUTION))\n",
    "        \n",
    "        return example\n",
    "\n",
    "processed_urls = processed_urls.map(get_box_size)\n",
    "processed_urls_invalid = processed_urls.filter(lambda example: example['label'] == 'person' and example['box_size'] > BOX_SIZE_THRESHOLD)\n",
    "list_invalid_urls = list(np.unique((processed_urls_invalid['url'])))\n",
    "\n",
    "time() - t"
   ]
  },
  {
   "cell_type": "code",
   "execution_count": null,
   "id": "b80fb64b",
   "metadata": {},
   "outputs": [],
   "source": []
  },
  {
   "cell_type": "markdown",
   "id": "24cd0a0b",
   "metadata": {},
   "source": [
    "--------"
   ]
  },
  {
   "cell_type": "code",
   "execution_count": 97,
   "id": "bc0c1dae-282b-4206-b0a5-7c6393e755a8",
   "metadata": {},
   "outputs": [],
   "source": [
    "df = processed_urls.to_pandas()"
   ]
  },
  {
   "cell_type": "code",
   "execution_count": 116,
   "id": "54ae8478",
   "metadata": {},
   "outputs": [],
   "source": [
    "# 17 692 257\n",
    "# len(df[df['url'].duplicated(keep=False)].sort_values(by=['url']))"
   ]
  },
  {
   "cell_type": "code",
   "execution_count": 101,
   "id": "5ce81a89",
   "metadata": {},
   "outputs": [
    {
     "data": {
      "text/plain": [
       "11748293"
      ]
     },
     "execution_count": 101,
     "metadata": {},
     "output_type": "execute_result"
    }
   ],
   "source": [
    "len(df['url'].unique())"
   ]
  },
  {
   "cell_type": "code",
   "execution_count": 100,
   "id": "70d3790f",
   "metadata": {},
   "outputs": [
    {
     "data": {
      "text/plain": [
       "0"
      ]
     },
     "execution_count": 100,
     "metadata": {},
     "output_type": "execute_result"
    }
   ],
   "source": [
    "len(df[df['url'].isna()])"
   ]
  },
  {
   "cell_type": "code",
   "execution_count": 102,
   "id": "0443cbc1",
   "metadata": {},
   "outputs": [
    {
     "data": {
      "text/plain": [
       "5520405"
      ]
     },
     "execution_count": 102,
     "metadata": {},
     "output_type": "execute_result"
    }
   ],
   "source": [
    "len(df[df['label']=='person']['url'].unique())"
   ]
  },
  {
   "cell_type": "code",
   "execution_count": 103,
   "id": "ebca6e93",
   "metadata": {},
   "outputs": [
    {
     "data": {
      "text/plain": [
       "46.98899661423153"
      ]
     },
     "execution_count": 103,
     "metadata": {},
     "output_type": "execute_result"
    }
   ],
   "source": [
    "100 * len(df[df['label']=='person']['url'].unique()) / len(df['url'].unique())"
   ]
  },
  {
   "cell_type": "code",
   "execution_count": 104,
   "id": "430f08d0-8766-4c80-b64a-65fbf7209356",
   "metadata": {},
   "outputs": [
    {
     "name": "stderr",
     "output_type": "stream",
     "text": [
      "100%|██████████| 24238088/24238088 [15:19<00:00, 26357.19it/s]\n"
     ]
    }
   ],
   "source": [
    "df['box_size'] = df.progress_apply(lambda x: (x.bottom_right_y - x.top_left_y)*(x.bottom_right_x - x.top_left_x),\n",
    "                                   axis=1)"
   ]
  },
  {
   "cell_type": "code",
   "execution_count": 105,
   "id": "3590704e",
   "metadata": {},
   "outputs": [
    {
     "data": {
      "text/plain": [
       "65536"
      ]
     },
     "execution_count": 105,
     "metadata": {},
     "output_type": "execute_result"
    }
   ],
   "source": [
    "IMAGE_RESOLUTION*IMAGE_RESOLUTION"
   ]
  },
  {
   "cell_type": "code",
   "execution_count": 106,
   "id": "f4fea821",
   "metadata": {},
   "outputs": [
    {
     "name": "stderr",
     "output_type": "stream",
     "text": [
      "100%|██████████| 24238088/24238088 [06:13<00:00, 64911.96it/s] \n"
     ]
    }
   ],
   "source": [
    "df['box_perc'] = df.progress_apply(lambda x: int(100 * x.box_size / (IMAGE_RESOLUTION*IMAGE_RESOLUTION)),\n",
    "                                   axis=1)"
   ]
  },
  {
   "cell_type": "code",
   "execution_count": 107,
   "id": "65789ffd",
   "metadata": {},
   "outputs": [],
   "source": [
    "df_people = df[df['label']=='person']"
   ]
  },
  {
   "cell_type": "code",
   "execution_count": 108,
   "id": "f0d82a3e",
   "metadata": {},
   "outputs": [
    {
     "data": {
      "text/plain": [
       "(12.1875, 65584.0078125)"
      ]
     },
     "execution_count": 108,
     "metadata": {},
     "output_type": "execute_result"
    }
   ],
   "source": [
    "df_people['box_size'].min(), df_people['box_size'].max()"
   ]
  },
  {
   "cell_type": "code",
   "execution_count": 109,
   "id": "5b0ea1d1",
   "metadata": {},
   "outputs": [
    {
     "data": {
      "text/plain": [
       "<Axes: >"
      ]
     },
     "execution_count": 109,
     "metadata": {},
     "output_type": "execute_result"
    },
    {
     "data": {
      "image/png": "[encoded data removed]",
      "text/plain": [
       "<Figure size 640x480 with 1 Axes>"
      ]
     },
     "metadata": {},
     "output_type": "display_data"
    }
   ],
   "source": [
    "df_people['box_size'].hist()"
   ]
  },
  {
   "cell_type": "code",
   "execution_count": 110,
   "id": "46bc8fc5",
   "metadata": {},
   "outputs": [
    {
     "data": {
      "text/plain": [
       "<Axes: >"
      ]
     },
     "execution_count": 110,
     "metadata": {},
     "output_type": "execute_result"
    },
    {
     "data": {
      "image/png": "[encoded data removed]",
      "text/plain": [
       "<Figure size 640x480 with 1 Axes>"
      ]
     },
     "metadata": {},
     "output_type": "display_data"
    }
   ],
   "source": [
    "df_people['box_perc'].hist()"
   ]
  },
  {
   "cell_type": "code",
   "execution_count": 156,
   "id": "9d4e1b0e",
   "metadata": {},
   "outputs": [],
   "source": [
    "BOX_SIZE_THRESHOLD = 1000"
   ]
  },
  {
   "cell_type": "code",
   "execution_count": 157,
   "id": "b98cbf84",
   "metadata": {},
   "outputs": [],
   "source": [
    "df_people_invalid = df_people[df_people['box_size'] > BOX_SIZE_THRESHOLD]"
   ]
  },
  {
   "cell_type": "code",
   "execution_count": 158,
   "id": "386ae2c6",
   "metadata": {},
   "outputs": [],
   "source": [
    "people_invalid_urls = df_people_invalid['url'].unique()"
   ]
  },
  {
   "cell_type": "code",
   "execution_count": 153,
   "id": "294671a9",
   "metadata": {},
   "outputs": [
    {
     "data": {
      "text/plain": [
       "344431"
      ]
     },
     "execution_count": 153,
     "metadata": {},
     "output_type": "execute_result"
    }
   ],
   "source": [
    "df_people_valid = df_people[(df_people['box_size'] <= BOX_SIZE_THRESHOLD) & \n",
    "                            (~df_people['url'].isin(people_invalid_urls))]\n",
    "len(df_people_valid['url'].unique())"
   ]
  },
  {
   "cell_type": "code",
   "execution_count": 119,
   "id": "9adcbdfb",
   "metadata": {},
   "outputs": [
    {
     "data": {
      "text/plain": [
       "0.21020196887728346"
      ]
     },
     "execution_count": 119,
     "metadata": {},
     "output_type": "execute_result"
    }
   ],
   "source": [
    "100 * len(df_people_valid['url'].unique()) / len(df_people['url'].unique())"
   ]
  },
  {
   "cell_type": "code",
   "execution_count": 154,
   "id": "7de9f3b2",
   "metadata": {},
   "outputs": [
    {
     "data": {
      "text/plain": [
       "2.9317535747533707"
      ]
     },
     "execution_count": 154,
     "metadata": {},
     "output_type": "execute_result"
    }
   ],
   "source": [
    "100 * len(df_people_valid['url'].unique()) / len(df['url'].unique())"
   ]
  },
  {
   "cell_type": "code",
   "execution_count": 159,
   "id": "7dcea14f",
   "metadata": {},
   "outputs": [
    {
     "data": {
      "text/plain": [
       "44.05724303947816"
      ]
     },
     "execution_count": 159,
     "metadata": {},
     "output_type": "execute_result"
    }
   ],
   "source": [
    "100 * len(df_people_invalid['url'].unique()) / len(df['url'].unique())"
   ]
  },
  {
   "cell_type": "code",
   "execution_count": 155,
   "id": "a0fdb273",
   "metadata": {},
   "outputs": [
    {
     "data": {
      "text/plain": [
       "3625000.0"
      ]
     },
     "execution_count": 155,
     "metadata": {},
     "output_type": "execute_result"
    }
   ],
   "source": [
    "2.9 * 125000000 / 100"
   ]
  },
  {
   "cell_type": "markdown",
   "id": "e61563d9",
   "metadata": {},
   "source": [
    "## test box_size/box_perc thresholds"
   ]
  },
  {
   "cell_type": "code",
   "execution_count": 142,
   "id": "1f38ea70",
   "metadata": {},
   "outputs": [],
   "source": [
    "threshold_min = 100\n",
    "threshold_max = 1000"
   ]
  },
  {
   "cell_type": "code",
   "execution_count": 143,
   "id": "0ba8a837",
   "metadata": {},
   "outputs": [],
   "source": [
    "people_invalid_urls_test = df_people[df_people['box_size'] > threshold_max]['url'].unique()"
   ]
  },
  {
   "cell_type": "code",
   "execution_count": 144,
   "id": "d32b1221",
   "metadata": {},
   "outputs": [],
   "source": [
    "df_people_test = df_people[(df_people['box_size'] > threshold_min) & (df_people['box_size'] <= threshold_max) & \n",
    "                           (~df_people['url'].isin(people_invalid_urls_test))]"
   ]
  },
  {
   "cell_type": "code",
   "execution_count": 137,
   "id": "4e9fef11",
   "metadata": {},
   "outputs": [],
   "source": [
    "# df_people_test[df_people_test['url']=='https://images.squarespace-cdn.com/content/v1/55b987c0e4b0b0462f3ebc28/1517379216235-EU64OF2U7E6GFFVCM87S/ke17ZwdGBToddI8pDm48kI2pdK8ohqNq39lQ8aNodSp7gQa3H78H3Y0txjaiv_0fDoOvxcdMmMKkDsyUqMSsMWxHk725yiiHCCLfrh8O1z5QPOohDIaIeljMHgDF5CVlOqpeNLcJ80NK65_fV7S1Ua00Q67jLYoe2jJwEeE3iV3qK_K0mXONrX-QDVHRyV2WchU0LD5eNWUVd3tZidBHnQ/07_RimuReclaimed100mmx15mmPlanks.jpg']"
   ]
  },
  {
   "cell_type": "code",
   "execution_count": 149,
   "id": "ccd804d0",
   "metadata": {},
   "outputs": [
    {
     "data": {
      "text/plain": [
       "'https://i.pinimg.com/236x/a8/84/84/a88484f00dffcb4d7c26dfa737424174--camels.jpg'"
      ]
     },
     "execution_count": 149,
     "metadata": {},
     "output_type": "execute_result"
    }
   ],
   "source": [
    "df_people_test['url'].sample(n=1).iloc[0]"
   ]
  },
  {
   "cell_type": "code",
   "execution_count": 29,
   "id": "9f9eb217",
   "metadata": {},
   "outputs": [
    {
     "data": {
      "text/plain": [
       "3673257"
      ]
     },
     "execution_count": 29,
     "metadata": {},
     "output_type": "execute_result"
    }
   ],
   "source": [
    "len(df['url'].unique())"
   ]
  },
  {
   "cell_type": "code",
   "execution_count": 28,
   "id": "96baa65b",
   "metadata": {},
   "outputs": [
    {
     "data": {
      "text/plain": [
       "1722789"
      ]
     },
     "execution_count": 28,
     "metadata": {},
     "output_type": "execute_result"
    }
   ],
   "source": [
    "len(df_people_invalid['url'].unique())"
   ]
  },
  {
   "cell_type": "code",
   "execution_count": 33,
   "id": "c3fd19b7",
   "metadata": {},
   "outputs": [
    {
     "data": {
      "text/plain": [
       "46.90085665119538"
      ]
     },
     "execution_count": 33,
     "metadata": {},
     "output_type": "execute_result"
    }
   ],
   "source": [
    "100 * len(df_people_invalid['url'].unique()) / len(df['url'].unique())"
   ]
  },
  {
   "cell_type": "code",
   "execution_count": 35,
   "id": "0cbe09b0",
   "metadata": {},
   "outputs": [],
   "source": [
    "people_invalid_urls = df_people_invalid['url'].unique()"
   ]
  },
  {
   "cell_type": "code",
   "execution_count": 37,
   "id": "a60dc24e-d0a0-474e-8a49-3bbdbc385e01",
   "metadata": {},
   "outputs": [
    {
     "data": {
      "text/plain": [
       "'http://st.depositphotos.com/1011643/4923/i/170/depositphotos_49236657-Happy-woman-with-her-horse.jpg'"
      ]
     },
     "execution_count": 37,
     "metadata": {},
     "output_type": "execute_result"
    }
   ],
   "source": [
    "people_invalid_urls[10]"
   ]
  },
  {
   "cell_type": "markdown",
   "id": "16e27a4f",
   "metadata": {},
   "source": [
    "# Filter .parquet files used BEFORE downloading"
   ]
  },
  {
   "cell_type": "code",
   "execution_count": 161,
   "id": "529ca8e0-70cb-4654-83f5-7b95716c2da6",
   "metadata": {},
   "outputs": [
    {
     "data": {
      "text/plain": [
       "26.957192420959473"
      ]
     },
     "execution_count": 161,
     "metadata": {},
     "output_type": "execute_result"
    }
   ],
   "source": [
    "t = time()\n",
    "input_files = ['/shared_drive/user-files/laion_dataset_200M/laion200m-train-12_2M-subset.parquet'] \n",
    "input_dataset = load_dataset(\"parquet\", data_files={\"train\": input_files}, split=\"train\")\n",
    "df_input_dataset = input_dataset.to_pandas()\n",
    "\n",
    "time() - t"
   ]
  },
  {
   "cell_type": "code",
   "execution_count": 162,
   "id": "182a2bc1-ea65-43a7-9c37-67213500df5e",
   "metadata": {},
   "outputs": [
    {
     "data": {
      "text/plain": [
       "43.24901485443115"
      ]
     },
     "execution_count": 162,
     "metadata": {},
     "output_type": "execute_result"
    }
   ],
   "source": [
    "t = time()\n",
    "df_input_dataset = pd.read_parquet('/shared_drive/user-files/laion_dataset_200M/laion200m-train-12_2M-subset.parquet')\n",
    "\n",
    "time() - t"
   ]
  },
  {
   "cell_type": "code",
   "execution_count": null,
   "id": "fd8f9f55-8eac-46de-99b6-c3f6e80d0293",
   "metadata": {},
   "outputs": [],
   "source": []
  },
  {
   "cell_type": "code",
   "execution_count": null,
   "id": "802c51f0-1a63-4b45-999a-3654344da799",
   "metadata": {},
   "outputs": [],
   "source": []
  },
  {
   "cell_type": "code",
   "execution_count": null,
   "id": "35468f73-a8a2-4175-b3c3-4f15bfb9dee5",
   "metadata": {},
   "outputs": [],
   "source": []
  },
  {
   "cell_type": "code",
   "execution_count": null,
   "id": "338049ed-8b42-4498-a20e-caa5693488f3",
   "metadata": {},
   "outputs": [],
   "source": []
  },
  {
   "cell_type": "code",
   "execution_count": null,
   "id": "a7528d10-a673-4319-99d4-81a3afeb5b8f",
   "metadata": {},
   "outputs": [],
   "source": []
  },
  {
   "cell_type": "code",
   "execution_count": null,
   "id": "53398b91-bd1a-4dd1-a146-2acaa89bfe0c",
   "metadata": {},
   "outputs": [],
   "source": []
  }
 ],
 "metadata": {
  "kernelspec": {
   "display_name": "Python 3 (ipykernel)",
   "language": "python",
   "name": "python3"
  },
  "language_info": {
   "codemirror_mode": {
    "name": "ipython",
    "version": 3
   },
   "file_extension": ".py",
   "mimetype": "text/x-python",
   "name": "python",
   "nbconvert_exporter": "python",
   "pygments_lexer": "ipython3",
   "version": "3.11.5"
  }
 },
 "nbformat": 4,
 "nbformat_minor": 5
}

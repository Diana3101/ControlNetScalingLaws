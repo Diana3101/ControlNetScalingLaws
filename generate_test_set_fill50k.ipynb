{
 "cells": [
  {
   "cell_type": "code",
   "execution_count": 3,
   "metadata": {},
   "outputs": [],
   "source": [
    "import cv2\n",
    "import numpy as np\n",
    "import random\n",
    "import numpy as np\n",
    "from PIL import Image\n",
    "import webcolors\n",
    "from time import time\n",
    "import pandas as pd\n",
    "\n",
    "from metrics.edge_metrics import get_ods_ap"
   ]
  },
  {
   "cell_type": "code",
   "execution_count": 3,
   "metadata": {},
   "outputs": [],
   "source": [
    "import warnings\n",
    "warnings.filterwarnings('ignore')"
   ]
  },
  {
   "cell_type": "code",
   "execution_count": 9,
   "metadata": {},
   "outputs": [],
   "source": [
    "from datasets import load_dataset\n",
    "import datasets\n",
    "from pathlib import Path\n",
    "\n",
    "datasets.config.DOWNLOADED_DATASETS_PATH = Path('/shared_drive/user-files/huggingface/datasets/downloads')\n",
    "datasets.config.HF_DATASETS_CACHE = Path('/shared_drive/user-files/huggingface/datasets/cache')\n",
    "\n",
    "dataset = load_dataset('fusing/fill50k')"
   ]
  },
  {
   "cell_type": "code",
   "execution_count": 66,
   "metadata": {},
   "outputs": [],
   "source": [
    "# Function to get the name of the color\n",
    "def get_colors_with_names(colors_names, colors):\n",
    "    rgb_tuple = (random.randint(0, 255), random.randint(0, 255), random.randint(0, 255))\n",
    "    \n",
    "    try:\n",
    "        color_name = webcolors.rgb_to_name(rgb_tuple)\n",
    "    except ValueError:\n",
    "        color_name = \"Unknown\"\n",
    "\n",
    "    if color_name != \"Unknown\" and rgb_tuple != (255, 255, 255) and rgb_tuple != (0, 0, 0):\n",
    "        # print('add color')\n",
    "        colors_names.append(color_name)\n",
    "        colors.append(rgb_tuple)\n",
    "\n",
    "    return colors_names, colors"
   ]
  },
  {
   "cell_type": "code",
   "execution_count": 67,
   "metadata": {},
   "outputs": [
    {
     "data": {
      "text/plain": [
       "169.0435483455658"
      ]
     },
     "execution_count": 67,
     "metadata": {},
     "output_type": "execute_result"
    }
   ],
   "source": [
    "colors_in_circle_names = []\n",
    "colors_in_circle_colors = []\n",
    "\n",
    "t = time()\n",
    "while len(colors_in_circle_names) < 100:\n",
    "    colors_in_circle_names, colors_in_circle_colors = get_colors_with_names(colors_in_circle_names, colors_in_circle_colors)\n",
    "\n",
    "time() - t"
   ]
  },
  {
   "cell_type": "code",
   "execution_count": 72,
   "metadata": {},
   "outputs": [
    {
     "data": {
      "text/plain": [
       "166.07831501960754"
      ]
     },
     "execution_count": 72,
     "metadata": {},
     "output_type": "execute_result"
    }
   ],
   "source": [
    "colors_out_circle_names = []\n",
    "colors_out_circle_colors = []\n",
    "\n",
    "t = time()\n",
    "while len(colors_out_circle_names) < 100:\n",
    "    colors_out_circle_names, colors_out_circle_colors = get_colors_with_names(colors_out_circle_names, colors_out_circle_colors)\n",
    "\n",
    "time() - t"
   ]
  },
  {
   "cell_type": "code",
   "execution_count": 73,
   "metadata": {},
   "outputs": [],
   "source": [
    "# Create a black background image\n",
    "width, height = 512, 512  # Adjust the dimensions as needed\n",
    "\n",
    "df = pd.DataFrame(columns=['text'])\n",
    "\n",
    "# Generate random circles\n",
    "num_circles = 1000  # Number of circles to generate\n",
    "n = 0\n",
    "for i in range(num_circles):\n",
    "    if n >= 100:\n",
    "        break\n",
    "\n",
    "    center_x = random.randint(0, width - 1)\n",
    "    center_y = random.randint(0, height - 1)\n",
    "    radius = random.randint(30, 300)  # Adjust the radius range as needed\n",
    "    \n",
    "    background_black = np.zeros((height, width, 3), dtype=np.uint8)\n",
    "\n",
    "    background_color_name = colors_out_circle_names[n]\n",
    "    background_color = colors_out_circle_colors[n]\n",
    "    background_color = np.full((height, width, 3), background_color, dtype=np.uint8)\n",
    "    # Draw the circle with white contour\n",
    "    circle_color_name = colors_in_circle_names[n]\n",
    "    circle_color = colors_in_circle_colors[n]\n",
    "\n",
    "    cv2.circle(background_black, (center_x, center_y), radius, (255, 255, 255), 3)\n",
    "    cv2.circle(background_color, (center_x, center_y), radius, circle_color, -1)\n",
    "\n",
    "    for j in range(len(dataset['train'])):\n",
    "        train_condition_img = np.array(dataset['train'][j]['conditioning_image'])\n",
    "\n",
    "        ods, ap = get_ods_ap(img_pred=background_black, img_true=train_condition_img)\n",
    "    \n",
    "        # if ap >= 0.05:\n",
    "        #     print(ap)\n",
    "        #     print('Same contours!')\n",
    "            # image_output = Image.fromarray(background)\n",
    "            # train_condition_img = Image.fromarray(train_condition_img)\n",
    "\n",
    "            # image_output.save(f\"same_contours/pred_image_{n}.png\")\n",
    "            # train_condition_img.save(f\"same_contours/true_image_{n}.png\")\n",
    "\n",
    "        if ap < 0.05 and n < 100:\n",
    "            image_output = Image.fromarray(background_black)\n",
    "            image_output_target = Image.fromarray(background_color)\n",
    "            image_output.save(f\"test_set/conditioning_image_{n+1}.png\")\n",
    "            image_output_target.save(f\"test_set/target_image_{n+1}.png\")\n",
    "\n",
    "            df.loc[n, 'text'] = f\"{circle_color_name} circle with {background_color_name} background\"\n",
    "            \n",
    "            n += 1\n",
    "            break\n",
    "\n",
    "df.to_csv('test_set/prompts.csv', index=False)"
   ]
  },
  {
   "cell_type": "code",
   "execution_count": 25,
   "metadata": {},
   "outputs": [
    {
     "data": {
      "image/jpeg": "[encoded data removed]",
      "image/png": "[encoded data removed]",
      "text/plain": [
       "<PIL.PngImagePlugin.PngImageFile image mode=RGB size=512x512>"
      ]
     },
     "execution_count": 25,
     "metadata": {},
     "output_type": "execute_result"
    }
   ],
   "source": [
    "dataset['train'][0]['conditioning_image']"
   ]
  },
  {
   "cell_type": "code",
   "execution_count": 4,
   "metadata": {},
   "outputs": [],
   "source": [
    "df_prompts = pd.read_csv('test_set/prompts.csv')\n",
    "validation_prompts = list(df_prompts['text'])"
   ]
  },
  {
   "cell_type": "code",
   "execution_count": 6,
   "metadata": {},
   "outputs": [
    {
     "data": {
      "text/plain": [
       "100"
      ]
     },
     "execution_count": 6,
     "metadata": {},
     "output_type": "execute_result"
    }
   ],
   "source": [
    "len(validation_prompts)"
   ]
  },
  {
   "cell_type": "code",
   "execution_count": 5,
   "metadata": {},
   "outputs": [],
   "source": [
    "import os"
   ]
  },
  {
   "cell_type": "code",
   "execution_count": 6,
   "metadata": {},
   "outputs": [],
   "source": [
    "df_prompts = pd.read_csv('test_set/prompts.csv')\n",
    "validation_prompts = list(df_prompts['text'])\n",
    "\n",
    "validation_images = os.listdir('test_set/')\n",
    "validation_images = [f\"test_set/{file}\" for file in validation_images if 'conditioning_image' in file]"
   ]
  },
  {
   "cell_type": "code",
   "execution_count": 10,
   "metadata": {},
   "outputs": [],
   "source": [
    "import re\n",
    "def sort_by_number(file_name):\n",
    "    match = re.search(r'\\d+', file_name)  # Find the first number in the file name\n",
    "    if match:\n",
    "        return int(match.group())  # Convert the matched number to an integer\n",
    "    else:\n",
    "        return float('inf')  # If no number found, place the file at the end of the list\n",
    "\n",
    "# Sort the list of file names by the number in their names\n",
    "sorted_file_names = sorted(validation_images, key=sort_by_number)"
   ]
  },
  {
   "cell_type": "code",
   "execution_count": 11,
   "metadata": {},
   "outputs": [
    {
     "data": {
      "text/plain": [
       "['test_set/conditioning_image_1.png',\n",
       " 'test_set/conditioning_image_2.png',\n",
       " 'test_set/conditioning_image_3.png',\n",
       " 'test_set/conditioning_image_4.png',\n",
       " 'test_set/conditioning_image_5.png',\n",
       " 'test_set/conditioning_image_6.png',\n",
       " 'test_set/conditioning_image_7.png',\n",
       " 'test_set/conditioning_image_8.png',\n",
       " 'test_set/conditioning_image_9.png',\n",
       " 'test_set/conditioning_image_10.png',\n",
       " 'test_set/conditioning_image_11.png',\n",
       " 'test_set/conditioning_image_12.png',\n",
       " 'test_set/conditioning_image_13.png',\n",
       " 'test_set/conditioning_image_14.png',\n",
       " 'test_set/conditioning_image_15.png',\n",
       " 'test_set/conditioning_image_16.png',\n",
       " 'test_set/conditioning_image_17.png',\n",
       " 'test_set/conditioning_image_18.png',\n",
       " 'test_set/conditioning_image_19.png',\n",
       " 'test_set/conditioning_image_20.png',\n",
       " 'test_set/conditioning_image_21.png',\n",
       " 'test_set/conditioning_image_22.png',\n",
       " 'test_set/conditioning_image_23.png',\n",
       " 'test_set/conditioning_image_24.png',\n",
       " 'test_set/conditioning_image_25.png',\n",
       " 'test_set/conditioning_image_26.png',\n",
       " 'test_set/conditioning_image_27.png',\n",
       " 'test_set/conditioning_image_28.png',\n",
       " 'test_set/conditioning_image_29.png',\n",
       " 'test_set/conditioning_image_30.png',\n",
       " 'test_set/conditioning_image_31.png',\n",
       " 'test_set/conditioning_image_32.png',\n",
       " 'test_set/conditioning_image_33.png',\n",
       " 'test_set/conditioning_image_34.png',\n",
       " 'test_set/conditioning_image_35.png',\n",
       " 'test_set/conditioning_image_36.png',\n",
       " 'test_set/conditioning_image_37.png',\n",
       " 'test_set/conditioning_image_38.png',\n",
       " 'test_set/conditioning_image_39.png',\n",
       " 'test_set/conditioning_image_40.png',\n",
       " 'test_set/conditioning_image_41.png',\n",
       " 'test_set/conditioning_image_42.png',\n",
       " 'test_set/conditioning_image_43.png',\n",
       " 'test_set/conditioning_image_44.png',\n",
       " 'test_set/conditioning_image_45.png',\n",
       " 'test_set/conditioning_image_46.png',\n",
       " 'test_set/conditioning_image_47.png',\n",
       " 'test_set/conditioning_image_48.png',\n",
       " 'test_set/conditioning_image_49.png',\n",
       " 'test_set/conditioning_image_50.png',\n",
       " 'test_set/conditioning_image_51.png',\n",
       " 'test_set/conditioning_image_52.png',\n",
       " 'test_set/conditioning_image_53.png',\n",
       " 'test_set/conditioning_image_54.png',\n",
       " 'test_set/conditioning_image_55.png',\n",
       " 'test_set/conditioning_image_56.png',\n",
       " 'test_set/conditioning_image_57.png',\n",
       " 'test_set/conditioning_image_58.png',\n",
       " 'test_set/conditioning_image_59.png',\n",
       " 'test_set/conditioning_image_60.png',\n",
       " 'test_set/conditioning_image_61.png',\n",
       " 'test_set/conditioning_image_62.png',\n",
       " 'test_set/conditioning_image_63.png',\n",
       " 'test_set/conditioning_image_64.png',\n",
       " 'test_set/conditioning_image_65.png',\n",
       " 'test_set/conditioning_image_66.png',\n",
       " 'test_set/conditioning_image_67.png',\n",
       " 'test_set/conditioning_image_68.png',\n",
       " 'test_set/conditioning_image_69.png',\n",
       " 'test_set/conditioning_image_70.png',\n",
       " 'test_set/conditioning_image_71.png',\n",
       " 'test_set/conditioning_image_72.png',\n",
       " 'test_set/conditioning_image_73.png',\n",
       " 'test_set/conditioning_image_74.png',\n",
       " 'test_set/conditioning_image_75.png',\n",
       " 'test_set/conditioning_image_76.png',\n",
       " 'test_set/conditioning_image_77.png',\n",
       " 'test_set/conditioning_image_78.png',\n",
       " 'test_set/conditioning_image_79.png',\n",
       " 'test_set/conditioning_image_80.png',\n",
       " 'test_set/conditioning_image_81.png',\n",
       " 'test_set/conditioning_image_82.png',\n",
       " 'test_set/conditioning_image_83.png',\n",
       " 'test_set/conditioning_image_84.png',\n",
       " 'test_set/conditioning_image_85.png',\n",
       " 'test_set/conditioning_image_86.png',\n",
       " 'test_set/conditioning_image_87.png',\n",
       " 'test_set/conditioning_image_88.png',\n",
       " 'test_set/conditioning_image_89.png',\n",
       " 'test_set/conditioning_image_90.png',\n",
       " 'test_set/conditioning_image_91.png',\n",
       " 'test_set/conditioning_image_92.png',\n",
       " 'test_set/conditioning_image_93.png',\n",
       " 'test_set/conditioning_image_94.png',\n",
       " 'test_set/conditioning_image_95.png',\n",
       " 'test_set/conditioning_image_96.png',\n",
       " 'test_set/conditioning_image_97.png',\n",
       " 'test_set/conditioning_image_98.png',\n",
       " 'test_set/conditioning_image_99.png',\n",
       " 'test_set/conditioning_image_100.png']"
      ]
     },
     "execution_count": 11,
     "metadata": {},
     "output_type": "execute_result"
    }
   ],
   "source": [
    "sorted_file_names"
   ]
  },
  {
   "cell_type": "code",
   "execution_count": 8,
   "metadata": {},
   "outputs": [
    {
     "data": {
      "text/plain": [
       "['test_set/conditioning_image_1.png',\n",
       " 'test_set/conditioning_image_10.png',\n",
       " 'test_set/conditioning_image_100.png',\n",
       " 'test_set/conditioning_image_11.png',\n",
       " 'test_set/conditioning_image_12.png',\n",
       " 'test_set/conditioning_image_13.png',\n",
       " 'test_set/conditioning_image_14.png',\n",
       " 'test_set/conditioning_image_15.png',\n",
       " 'test_set/conditioning_image_16.png',\n",
       " 'test_set/conditioning_image_17.png',\n",
       " 'test_set/conditioning_image_18.png',\n",
       " 'test_set/conditioning_image_19.png',\n",
       " 'test_set/conditioning_image_2.png',\n",
       " 'test_set/conditioning_image_20.png',\n",
       " 'test_set/conditioning_image_21.png',\n",
       " 'test_set/conditioning_image_22.png',\n",
       " 'test_set/conditioning_image_23.png',\n",
       " 'test_set/conditioning_image_24.png',\n",
       " 'test_set/conditioning_image_25.png',\n",
       " 'test_set/conditioning_image_26.png',\n",
       " 'test_set/conditioning_image_27.png',\n",
       " 'test_set/conditioning_image_28.png',\n",
       " 'test_set/conditioning_image_29.png',\n",
       " 'test_set/conditioning_image_3.png',\n",
       " 'test_set/conditioning_image_30.png',\n",
       " 'test_set/conditioning_image_31.png',\n",
       " 'test_set/conditioning_image_32.png',\n",
       " 'test_set/conditioning_image_33.png',\n",
       " 'test_set/conditioning_image_34.png',\n",
       " 'test_set/conditioning_image_35.png',\n",
       " 'test_set/conditioning_image_36.png',\n",
       " 'test_set/conditioning_image_37.png',\n",
       " 'test_set/conditioning_image_38.png',\n",
       " 'test_set/conditioning_image_39.png',\n",
       " 'test_set/conditioning_image_4.png',\n",
       " 'test_set/conditioning_image_40.png',\n",
       " 'test_set/conditioning_image_41.png',\n",
       " 'test_set/conditioning_image_42.png',\n",
       " 'test_set/conditioning_image_43.png',\n",
       " 'test_set/conditioning_image_44.png',\n",
       " 'test_set/conditioning_image_45.png',\n",
       " 'test_set/conditioning_image_46.png',\n",
       " 'test_set/conditioning_image_47.png',\n",
       " 'test_set/conditioning_image_48.png',\n",
       " 'test_set/conditioning_image_49.png',\n",
       " 'test_set/conditioning_image_5.png',\n",
       " 'test_set/conditioning_image_50.png',\n",
       " 'test_set/conditioning_image_51.png',\n",
       " 'test_set/conditioning_image_52.png',\n",
       " 'test_set/conditioning_image_53.png',\n",
       " 'test_set/conditioning_image_54.png',\n",
       " 'test_set/conditioning_image_55.png',\n",
       " 'test_set/conditioning_image_56.png',\n",
       " 'test_set/conditioning_image_57.png',\n",
       " 'test_set/conditioning_image_58.png',\n",
       " 'test_set/conditioning_image_59.png',\n",
       " 'test_set/conditioning_image_6.png',\n",
       " 'test_set/conditioning_image_60.png',\n",
       " 'test_set/conditioning_image_61.png',\n",
       " 'test_set/conditioning_image_62.png',\n",
       " 'test_set/conditioning_image_63.png',\n",
       " 'test_set/conditioning_image_64.png',\n",
       " 'test_set/conditioning_image_65.png',\n",
       " 'test_set/conditioning_image_66.png',\n",
       " 'test_set/conditioning_image_67.png',\n",
       " 'test_set/conditioning_image_68.png',\n",
       " 'test_set/conditioning_image_69.png',\n",
       " 'test_set/conditioning_image_7.png',\n",
       " 'test_set/conditioning_image_70.png',\n",
       " 'test_set/conditioning_image_71.png',\n",
       " 'test_set/conditioning_image_72.png',\n",
       " 'test_set/conditioning_image_73.png',\n",
       " 'test_set/conditioning_image_74.png',\n",
       " 'test_set/conditioning_image_75.png',\n",
       " 'test_set/conditioning_image_76.png',\n",
       " 'test_set/conditioning_image_77.png',\n",
       " 'test_set/conditioning_image_78.png',\n",
       " 'test_set/conditioning_image_79.png',\n",
       " 'test_set/conditioning_image_8.png',\n",
       " 'test_set/conditioning_image_80.png',\n",
       " 'test_set/conditioning_image_81.png',\n",
       " 'test_set/conditioning_image_82.png',\n",
       " 'test_set/conditioning_image_83.png',\n",
       " 'test_set/conditioning_image_84.png',\n",
       " 'test_set/conditioning_image_85.png',\n",
       " 'test_set/conditioning_image_86.png',\n",
       " 'test_set/conditioning_image_87.png',\n",
       " 'test_set/conditioning_image_88.png',\n",
       " 'test_set/conditioning_image_89.png',\n",
       " 'test_set/conditioning_image_9.png',\n",
       " 'test_set/conditioning_image_90.png',\n",
       " 'test_set/conditioning_image_91.png',\n",
       " 'test_set/conditioning_image_92.png',\n",
       " 'test_set/conditioning_image_93.png',\n",
       " 'test_set/conditioning_image_94.png',\n",
       " 'test_set/conditioning_image_95.png',\n",
       " 'test_set/conditioning_image_96.png',\n",
       " 'test_set/conditioning_image_97.png',\n",
       " 'test_set/conditioning_image_98.png',\n",
       " 'test_set/conditioning_image_99.png']"
      ]
     },
     "execution_count": 8,
     "metadata": {},
     "output_type": "execute_result"
    }
   ],
   "source": [
    "sorted(validation_images)"
   ]
  },
  {
   "cell_type": "code",
   "execution_count": 14,
   "metadata": {},
   "outputs": [
    {
     "data": {
      "text/plain": [
       "100"
      ]
     },
     "execution_count": 14,
     "metadata": {},
     "output_type": "execute_result"
    }
   ],
   "source": [
    "len(validation_images)"
   ]
  },
  {
   "cell_type": "code",
   "execution_count": 1,
   "metadata": {},
   "outputs": [
    {
     "data": {
      "text/plain": [
       "5e-06"
      ]
     },
     "execution_count": 1,
     "metadata": {},
     "output_type": "execute_result"
    }
   ],
   "source": [
    "1e-5 / 2"
   ]
  },
  {
   "cell_type": "code",
   "execution_count": null,
   "metadata": {},
   "outputs": [],
   "source": []
  },
  {
   "cell_type": "code",
   "execution_count": 26,
   "metadata": {},
   "outputs": [],
   "source": [
    "# import matplotlib.pyplot as plt\n",
    "# import os\n",
    "\n",
    "# folder_path = 'fill50k/images'\n",
    "# image_files = os.listdir(folder_path)[100:125]\n",
    "\n",
    "# fig, axes = plt.subplots(5, 5, figsize=(6, 6))\n",
    "\n",
    "# for ax, image_file in zip(axes.flat, image_files):\n",
    "#     image_path = os.path.join(folder_path, image_file)\n",
    "#     image = plt.imread(image_path)\n",
    "#     ax.imshow(image)\n",
    "#     ax.axis('off')\n",
    "\n",
    "# plt.tight_layout()\n",
    "# plt.subplots_adjust(wspace=0.1, hspace=0.1)\n",
    "# plt.show()"
   ]
  },
  {
   "cell_type": "code",
   "execution_count": null,
   "metadata": {},
   "outputs": [],
   "source": []
  },
  {
   "cell_type": "code",
   "execution_count": null,
   "metadata": {},
   "outputs": [],
   "source": []
  },
  {
   "cell_type": "code",
   "execution_count": null,
   "metadata": {},
   "outputs": [],
   "source": []
  }
 ],
 "metadata": {
  "kernelspec": {
   "display_name": "controlnet-scalinglaws",
   "language": "python",
   "name": "python3"
  },
  "language_info": {
   "codemirror_mode": {
    "name": "ipython",
    "version": 3
   },
   "file_extension": ".py",
   "mimetype": "text/x-python",
   "name": "python",
   "nbconvert_exporter": "python",
   "pygments_lexer": "ipython3",
   "version": "3.11.5"
  }
 },
 "nbformat": 4,
 "nbformat_minor": 2
}
